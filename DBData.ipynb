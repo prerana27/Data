{
 "cells": [
  {
   "cell_type": "code",
   "execution_count": 15,
   "metadata": {
    "collapsed": true
   },
   "outputs": [],
   "source": [
    "import json\n",
    "import csv\n",
    "import pandas\n",
    "import itertools"
   ]
  },
  {
   "cell_type": "code",
   "execution_count": 16,
   "metadata": {},
   "outputs": [],
   "source": [
    "filename = './dblp-ref-0.json'\n",
    "lines = []\n",
    "with open(filename) as file:\n",
    "    for line in file:\n",
    "        lines.append(line.rstrip())"
   ]
  },
  {
   "cell_type": "code",
   "execution_count": 17,
   "metadata": {
    "collapsed": true
   },
   "outputs": [],
   "source": [
    "obj = json.loads(lines[0])"
   ]
  },
  {
   "cell_type": "code",
   "execution_count": 18,
   "metadata": {},
   "outputs": [
    {
     "data": {
      "text/plain": [
       "{'authors': ['Tegegne Marew', 'Doo-Hwan Bae'],\n",
       " 'id': '01f1d231-80ae-4cce-b56c-9d821e0924d0',\n",
       " 'n_citation': 1,\n",
       " 'references': ['2134bf3b-fd89-4724-90ce-5993b4fa3218',\n",
       "  '906c17e0-db09-407b-b760-41df5a3f0293',\n",
       "  '94f4382e-cfa6-4aec-92b8-3711fc55da54',\n",
       "  '9f172585-8d42-4fce-b6ae-aede321f3fd4',\n",
       "  'a3aee287-efd0-4b9d-9cda-d47dd192c9f4',\n",
       "  'a9a7fd07-ef71-4b3c-8fcf-d7fe114d2148',\n",
       "  'd63dd4ae-4b30-484b-8ffc-88d21839ddad'],\n",
       " 'title': 'Using Classpects for Integrating Non-Functional and Functional Requirements.',\n",
       " 'venue': 'international conference on software engineering',\n",
       " 'year': 2006}"
      ]
     },
     "execution_count": 18,
     "metadata": {},
     "output_type": "execute_result"
    }
   ],
   "source": [
    "obj"
   ]
  },
  {
   "cell_type": "code",
   "execution_count": 19,
   "metadata": {
    "collapsed": true
   },
   "outputs": [],
   "source": [
    "authors_list = []\n",
    "venues_list = []\n",
    "articles_list = []"
   ]
  },
  {
   "cell_type": "code",
   "execution_count": 20,
   "metadata": {
    "collapsed": true
   },
   "outputs": [],
   "source": [
    "for l in lines :\n",
    "    obj = json.loads(l)\n",
    "    for a in obj['authors']:\n",
    "        authors_list.append(a)\n",
    "    if obj.get('references'):\n",
    "        for r in obj['references']:\n",
    "            articles_list.append(r)\n",
    "\n",
    "    venues_list.append(obj['venue'].replace(',','.'))\n",
    "    articles_list.append(obj['id'].replace(',','.'))"
   ]
  },
  {
   "cell_type": "code",
   "execution_count": 21,
   "metadata": {
    "collapsed": true
   },
   "outputs": [],
   "source": [
    "# Content for the NODES files\n",
    "authors = list(set(authors_list))\n",
    "venues = list(set(venues_list))\n",
    "articles = list(set(articles_list))"
   ]
  },
  {
   "cell_type": "code",
   "execution_count": 23,
   "metadata": {
    "collapsed": true
   },
   "outputs": [],
   "source": [
    "# Content for the EDGES files\n",
    "author_article = []\n",
    "article_venue = []\n",
    "article_article = []\n",
    "author_author = []"
   ]
  },
  {
   "cell_type": "code",
   "execution_count": 25,
   "metadata": {},
   "outputs": [],
   "source": [
    "for l in lines :\n",
    "    obj = json.loads(l)\n",
    "    article_venue.append(obj['id'] + ','+ obj['venue'].replace(',','.'))\n",
    "    if obj.get('references'):\n",
    "        for r in obj['references']:\n",
    "            article_article.append(obj['id'] + ',' + r)\n",
    "    if obj.get('authors'):\n",
    "        for a in obj['authors']:\n",
    "            author_article.append(a.replace(',','.') + ',' + obj['id'])\n",
    "        for pair in itertools.combinations(obj['authors'], 2):\n",
    "            author_author.append(pair[0]+ ','+pair[1])\n",
    "            author_author.append(pair[1]+ ','+ pair[0])"
   ]
  },
  {
   "cell_type": "code",
   "execution_count": 359,
   "metadata": {
    "collapsed": true
   },
   "outputs": [],
   "source": [
    "#df = pandas.DataFrame(data={\"id\": articles})\n",
    "#df.to_csv(\"./articles.csv\", sep=',',index=False)"
   ]
  },
  {
   "cell_type": "code",
   "execution_count": 360,
   "metadata": {
    "collapsed": true
   },
   "outputs": [],
   "source": [
    "#df = pandas.DataFrame(data={\"name\": authors})\n",
    "#df.to_csv(\"./authors.csv\", sep=',',index=False)"
   ]
  },
  {
   "cell_type": "code",
   "execution_count": 31,
   "metadata": {},
   "outputs": [],
   "source": [
    "with open('./authors.csv','w') as result_file:\n",
    "    wr = csv.writer(result_file)\n",
    "    for item in authors:\n",
    "        str(item).replace(',','#')\n",
    "        wr.writerow([item.replace(',','.'), 'AUTHOR'])"
   ]
  },
  {
   "cell_type": "code",
   "execution_count": 32,
   "metadata": {
    "collapsed": true
   },
   "outputs": [],
   "source": [
    "with open('./articles.csv','w') as result_file:\n",
    "    wr = csv.writer(result_file, dialect='excel')\n",
    "    for item in articles:\n",
    "        #x = item.split(',')\n",
    "        wr.writerow([item, 'ARTICLE'])"
   ]
  },
  {
   "cell_type": "code",
   "execution_count": 33,
   "metadata": {
    "collapsed": true
   },
   "outputs": [],
   "source": [
    "with open('./venues.csv','w') as result_file:\n",
    "    wr = csv.writer(result_file, dialect='excel')\n",
    "    for item in venues:\n",
    "        #x = item.split(',')\n",
    "        wr.writerow([item.replace(',','.'), 'VENUE'])"
   ]
  },
  {
   "cell_type": "code",
   "execution_count": 34,
   "metadata": {
    "collapsed": true
   },
   "outputs": [],
   "source": [
    "with open('./article_author.csv','w') as result_file:\n",
    "    wr = csv.writer(result_file, dialect='excel')\n",
    "    for item in author_article:\n",
    "        x = item.split(',')\n",
    "        wr.writerow([x[1], x[0], 'ARTICLE_AUTHOR'])"
   ]
  },
  {
   "cell_type": "code",
   "execution_count": 35,
   "metadata": {
    "collapsed": true
   },
   "outputs": [],
   "source": [
    "with open('./article_venue.csv','w') as result_file:\n",
    "    wr = csv.writer(result_file, dialect='excel')\n",
    "    for item in article_venue:\n",
    "        x = item.split(',')\n",
    "        wr.writerow([x[0], x[1], 'ARTICLE_VENUE'])"
   ]
  },
  {
   "cell_type": "code",
   "execution_count": 36,
   "metadata": {
    "collapsed": true
   },
   "outputs": [],
   "source": [
    "with open('./article_article.csv','w') as result_file:\n",
    "    wr = csv.writer(result_file, dialect='excel')\n",
    "    for item in article_article:\n",
    "        x = item.split(',')\n",
    "        wr.writerow([x[0], x[1], 'ARTICLE_ARTICLE'])"
   ]
  },
  {
   "cell_type": "code",
   "execution_count": 37,
   "metadata": {},
   "outputs": [],
   "source": [
    "with open('./author_author.csv','w') as result_file:\n",
    "    wr = csv.writer(result_file, dialect='excel')\n",
    "    for item in author_author:\n",
    "        x = item.split(',')\n",
    "        wr.writerow([x[0], x[1], 'AUTHOR_AUTHOR'])"
   ]
  },
  {
   "cell_type": "code",
   "execution_count": 367,
   "metadata": {},
   "outputs": [
    {
     "data": {
      "text/plain": [
       "'01f1d231-80ae-4cce-b56c-9d821e0924d0,2134bf3b-fd89-4724-90ce-5993b4fa3218'"
      ]
     },
     "execution_count": 367,
     "metadata": {},
     "output_type": "execute_result"
    }
   ],
   "source": [
    "article_article[0]"
   ]
  },
  {
   "cell_type": "code",
   "execution_count": 9,
   "metadata": {
    "collapsed": true
   },
   "outputs": [],
   "source": []
  },
  {
   "cell_type": "code",
   "execution_count": 14,
   "metadata": {},
   "outputs": [
    {
     "name": "stdout",
     "output_type": "stream",
     "text": [
      "1 2\n",
      "2 1\n",
      "1 3\n",
      "3 1\n",
      "1 4\n",
      "4 1\n",
      "2 3\n",
      "3 2\n",
      "2 4\n",
      "4 2\n",
      "3 4\n",
      "4 3\n"
     ]
    }
   ],
   "source": [
    "for pair in itertools.combinations([1,2,3,4],2):\n",
    "    print(pair[0], pair[1])\n",
    "    print(pair[1], pair[0])"
   ]
  },
  {
   "cell_type": "code",
   "execution_count": null,
   "metadata": {
    "collapsed": true
   },
   "outputs": [],
   "source": []
  }
 ],
 "metadata": {
  "kernelspec": {
   "display_name": "Python 3",
   "language": "python",
   "name": "python3"
  },
  "language_info": {
   "codemirror_mode": {
    "name": "ipython",
    "version": 3
   },
   "file_extension": ".py",
   "mimetype": "text/x-python",
   "name": "python",
   "nbconvert_exporter": "python",
   "pygments_lexer": "ipython3",
   "version": "3.5.4"
  }
 },
 "nbformat": 4,
 "nbformat_minor": 2
}
